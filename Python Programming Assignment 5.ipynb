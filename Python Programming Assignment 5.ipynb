{
 "cells": [
  {
   "cell_type": "code",
   "execution_count": null,
   "metadata": {},
   "outputs": [],
   "source": [
    "1. Write a Python Program to Find LCM?"
   ]
  },
  {
   "cell_type": "code",
   "execution_count": 13,
   "metadata": {},
   "outputs": [
    {
     "name": "stdout",
     "output_type": "stream",
     "text": [
      "Give list of numbers whose LCM is to be found out 7 8 6\n",
      "168 is LCM\n"
     ]
    }
   ],
   "source": [
    "l=list(input('Give list of numbers whose LCM is to be found out ').split())\n",
    "import numpy as np\n",
    "l=[int(i) for i in l]\n",
    "\n",
    "x=np.lcm.reduce(l)\n",
    "print(x,'is LCM')"
   ]
  },
  {
   "cell_type": "code",
   "execution_count": null,
   "metadata": {},
   "outputs": [],
   "source": [
    "2. Write a Python Program to Find HCF?"
   ]
  },
  {
   "cell_type": "code",
   "execution_count": 29,
   "metadata": {},
   "outputs": [
    {
     "name": "stdout",
     "output_type": "stream",
     "text": [
      "Give list of numbers whose LCM is to be found out 20 8 32 \n",
      "4\n"
     ]
    }
   ],
   "source": [
    "import numpy as np\n",
    "l=list(input('Give list of numbers whose HCF is to be found out ').split())\n",
    "l=[int(i) for i in l]\n",
    "\n",
    "x = np.gcd.reduce(l)\n",
    "\n",
    "print(x)"
   ]
  },
  {
   "cell_type": "code",
   "execution_count": null,
   "metadata": {},
   "outputs": [],
   "source": [
    "3. Write a Python Program to Convert Decimal to Binary, Octal and Hexadecimal?"
   ]
  },
  {
   "cell_type": "code",
   "execution_count": 33,
   "metadata": {},
   "outputs": [
    {
     "name": "stdout",
     "output_type": "stream",
     "text": [
      "Enter the number to converted 896 \n",
      "0b1110000000 in binary ; 0o1600 in octal ; 0x380 in hexadecimal\n"
     ]
    }
   ],
   "source": [
    "num=int(input('Enter the number to converted '))\n",
    "a=bin(num)\n",
    "b=oct(num)\n",
    "c=hex(num)\n",
    "print(a,'in binary ;',b,'in octal ;',c,'in hexadecimal')"
   ]
  },
  {
   "cell_type": "code",
   "execution_count": null,
   "metadata": {},
   "outputs": [],
   "source": [
    "4. Write a Python Program To Find ASCII value of a character?"
   ]
  },
  {
   "cell_type": "code",
   "execution_count": 42,
   "metadata": {},
   "outputs": [
    {
     "name": "stdout",
     "output_type": "stream",
     "text": [
      "Enter the number to converted q\n",
      "The ASCII value of a character is 113\n"
     ]
    }
   ],
   "source": [
    "c=(input('Enter the number whose ASCII value is to be determined'))\n",
    "x=ord(c)\n",
    "print('The ASCII value of a character is',x)"
   ]
  },
  {
   "cell_type": "code",
   "execution_count": null,
   "metadata": {},
   "outputs": [],
   "source": [
    "5. Write a Python Program to Make a Simple Calculator with 4 basic mathematical operations?"
   ]
  },
  {
   "cell_type": "code",
   "execution_count": 2,
   "metadata": {},
   "outputs": [
    {
     "name": "stdout",
     "output_type": "stream",
     "text": [
      "Enter the numbers 74 51\n",
      "sum is 125\n",
      "Difference is 23\n",
      "Product is 3774\n",
      "Result of Division is 1.4509803921568627\n"
     ]
    }
   ],
   "source": [
    "x,y=(input('Enter the numbers ').split())\n",
    "add=int(x)+int(y)\n",
    "sub=int(x)-int(y)\n",
    "mul=int(x)*int(y)\n",
    "div=int(x)/int(y)\n",
    "print('sum is',add)\n",
    "print('Difference is',sub)\n",
    "print('Product is',mul)\n",
    "print('Result of Division is',div)"
   ]
  },
  {
   "cell_type": "code",
   "execution_count": null,
   "metadata": {},
   "outputs": [],
   "source": []
  }
 ],
 "metadata": {
  "kernelspec": {
   "display_name": "Python 3",
   "language": "python",
   "name": "python3"
  },
  "language_info": {
   "codemirror_mode": {
    "name": "ipython",
    "version": 3
   },
   "file_extension": ".py",
   "mimetype": "text/x-python",
   "name": "python",
   "nbconvert_exporter": "python",
   "pygments_lexer": "ipython3",
   "version": "3.8.3"
  }
 },
 "nbformat": 4,
 "nbformat_minor": 4
}
